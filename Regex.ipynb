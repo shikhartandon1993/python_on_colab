{
  "nbformat": 4,
  "nbformat_minor": 0,
  "metadata": {
    "colab": {
      "provenance": [],
      "authorship_tag": "ABX9TyNBiTXV1rp9wMlFGVnNVWEk",
      "include_colab_link": true
    },
    "kernelspec": {
      "name": "python3",
      "display_name": "Python 3"
    },
    "language_info": {
      "name": "python"
    }
  },
  "cells": [
    {
      "cell_type": "markdown",
      "metadata": {
        "id": "view-in-github",
        "colab_type": "text"
      },
      "source": [
        "<a href=\"https://colab.research.google.com/github/shikhartandon1993/python_on_colab/blob/main/Regex.ipynb\" target=\"_parent\"><img src=\"https://colab.research.google.com/assets/colab-badge.svg\" alt=\"Open In Colab\"/></a>"
      ]
    },
    {
      "cell_type": "code",
      "execution_count": 7,
      "metadata": {
        "colab": {
          "base_uri": "https://localhost:8080/"
        },
        "id": "OvQtlCaciNuE",
        "outputId": "f2c1731a-acc6-481a-8a27-db098fcb5245"
      },
      "outputs": [
        {
          "output_type": "stream",
          "name": "stdout",
          "text": [
            "['[HELLO]', '[YES]', '[NO]', '[ROSE]', '[END]', '[END]', '[YES]']\n",
            "['(green)', '(hip)', '(end credits)']\n",
            "['{987}']\n",
            "['HELLO', 'YES', 'NO', 'ROSE', 'END', 'green', 'hip', 'END', 'end credits', 'YES', '987']\n",
            "[('John Doe', '30'), ('Jane Doe', '25')]\n",
            "group_list.group(0) =  John Doe, age 30, and Jane Doe, age 25, are friends\n",
            "group_list.group(1) =  John Doe\n",
            "group_list.group(2) =  age 30\n",
            "keyword =  rainbow\n",
            "['hello', 'world']\n",
            "['hello world']\n",
            "['he', 'll', 'o ', 'wo', 'rl', 'd']\n",
            "['he', 'll', 'o ', 'wo', 'rl']\n",
            "name without vowels =  Shkhr\n",
            "correct phone numbers =  ['682-256-7090', '(564)-789-1099']\n",
            "email addresses are =  ['shikhartandon1993@gmail.com', 'sharkrocks987@gmail.com']\n"
          ]
        }
      ],
      "source": [
        "import re\n",
        "\n",
        "\n",
        "sample_string = \\\n",
        "'''\n",
        "Hi SIr [HELLO]\n",
        "[YES] How are you\n",
        "[NO] Welcome\n",
        "[ROSE] You are good\n",
        "[END]\n",
        "rainbow (green) wow tech (hip)\n",
        "[END]\n",
        "(end credits)\n",
        "[YES]\n",
        "{987}\n",
        "'''\n",
        "\n",
        "list1 = re.findall('\\[[A-Z]+\\]',sample_string)\n",
        "print(list1)\n",
        "\n",
        "list2 = re.findall('\\([\\w ]+\\)',sample_string)\n",
        "print(list2)\n",
        "\n",
        "list3 = re.findall('\\{[\\d]+\\}',sample_string)\n",
        "print(list3)\n",
        "\n",
        "list4 = re.findall('[\\(|\\{|\\[](\\w*\\s*\\w*)[\\)|\\}|\\]]',sample_string)\n",
        "print(list4)\n",
        "\n",
        "text = \"John Doe, age 30, and Jane Doe, age 25, are friends.\"\n",
        "list1 = re.findall(\"(\\w+ \\w+), age (\\d+)\",text)\n",
        "print(list1)\n",
        "\n",
        "group_list = re.search('(\\w+ \\w+), (\\w+ \\d+), and (\\w+ \\w+), (\\w+ \\d+), (\\w+ \\w+)',text)\n",
        "print('group_list.group(0) = ',group_list.group(0))#John Doe,age 30, and Jane Doe, age 25, are friends\n",
        "print('group_list.group(1) = ',group_list.group(1))#John Doe\n",
        "print('group_list.group(2) = ',group_list.group(2))#age 30\n",
        "\n",
        "word = 'rainbow'\n",
        "keyword = re.search('^r.*w$',word)\n",
        "print('keyword = ',keyword.group(0))\n",
        "\n",
        "test_string = 'hello world'\n",
        "print(re.findall('[\\w]+',test_string))\n",
        "print(re.findall('[\\w\\s]+',test_string))\n",
        "print(re.findall('[\\w\\s].?',test_string))\n",
        "print(re.findall('[\\w\\s].+?',test_string))\n",
        "\n",
        "#remove vowels\n",
        "text1 = \"Shikhar\"\n",
        "output = re.findall('[^aeiou]',text1)\n",
        "output = ''.join(output)\n",
        "print(\"name without vowels = \",output)\n",
        "\n",
        "#find correct phone number format\n",
        "text2 = \"asnajksjkabshbj682-256-7090 anjwnefjw dqhjwndn  (564)-789-1099 abqsjbq\"\n",
        "\n",
        "output = re.findall('[\\d]{3}-[\\d]{3}-[\\d]{4}|\\([\\d]{3}\\)-[\\d]{3}-[\\d]{4}',text2)\n",
        "print(\"correct phone numbers = \",output)\n",
        "\n",
        "text2 = \"his email is shikhartandon1993@gmail.com, ok?,you can also use sharkrocks987@gmail.com\"\n",
        "output = re.findall('[\\w]+@[\\w]+\\.com',text2)\n",
        "print(\"email addresses are = \",output)"
      ]
    },
    {
      "cell_type": "code",
      "source": [
        "import re\n",
        "\n",
        "text = \"John Doe, age 30, and Jane Doe, age 25, are friends.\"\n",
        "list1 = re.findall(\"(\\w+ \\w+, \\w+) (\\d+)\",text)\n",
        "print(list1)"
      ],
      "metadata": {
        "colab": {
          "base_uri": "https://localhost:8080/"
        },
        "id": "yp7sanUlxlDY",
        "outputId": "58e094e1-acd4-4985-8b9b-2d1db1b4c7a0"
      },
      "execution_count": null,
      "outputs": [
        {
          "output_type": "stream",
          "name": "stdout",
          "text": [
            "[('John Doe, age', '30'), ('Jane Doe, age', '25')]\n"
          ]
        }
      ]
    }
  ]
}